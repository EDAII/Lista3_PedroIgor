{
 "cells": [
  {
   "cell_type": "code",
   "execution_count": 23,
   "metadata": {},
   "outputs": [
    {
     "data": {
      "text/plain": [
       "35"
      ]
     },
     "execution_count": 23,
     "metadata": {},
     "output_type": "execute_result"
    }
   ],
   "source": [
    "import math as m\n",
    "def MoM(vetor, k):\n",
    "    if len(vetor) > 5:\n",
    "        mom = []\n",
    "        i = 0\n",
    "        while i < len(vetor):\n",
    "            mom.append(MoM(vetor[i:i+5], k))\n",
    "            i+=5\n",
    "        return check(vetor, MoM(mom, k), k) \n",
    "    else:\n",
    "        if len(vetor)%2 == 0:\n",
    "            return vetor[int((len(vetor)/2))-1]\n",
    "        else:\n",
    "            return vetor[int((len(vetor)-1)/2)]\n",
    "        \n",
    "def check(vetor, palpite, k):\n",
    "    l = []\n",
    "    r = []\n",
    "    for i in vetor:\n",
    "        if i < palpite:\n",
    "            l.append(i)\n",
    "        elif i > palpite:\n",
    "            r.append(i)\n",
    "\n",
    "    if len(l) == k-1:\n",
    "        return palpite\n",
    "    elif len(l) < k:\n",
    "        if len(r) <= 5:\n",
    "            r.sort()\n",
    "            if len(r)%2 == 0:\n",
    "                return check(r, r[int((len(r)/2))-1], k-len(l)-1)\n",
    "            else:\n",
    "                return check(r, r[int((len(r)-1)/2)], k-len(l)-1)\n",
    "        else:\n",
    "            return MoM(r, k-len(l)-1)\n",
    "    else:\n",
    "        if len(l) <= 5:\n",
    "            l.sort()\n",
    "            if len(l)%2 == 0:\n",
    "                return check(l, l[int((len(l)/2))-1], k)\n",
    "            else:\n",
    "                return check(l, l[int((len(l)-1)/2)], k)\n",
    "        else:\n",
    "            return MoM(l, k)\n",
    "    \n",
    "    \n",
    "    \n",
    "vetor = [5,6,7,9,8,15,1,3,0, 20, 21, 25, 26, 28, 35]\n",
    "\n",
    "MoM(vetor, 15)"
   ]
  }
 ],
 "metadata": {
  "kernelspec": {
   "display_name": "Python 3",
   "language": "python",
   "name": "python3"
  },
  "language_info": {
   "codemirror_mode": {
    "name": "ipython",
    "version": 3
   },
   "file_extension": ".py",
   "mimetype": "text/x-python",
   "name": "python",
   "nbconvert_exporter": "python",
   "pygments_lexer": "ipython3",
   "version": "3.7.4"
  }
 },
 "nbformat": 4,
 "nbformat_minor": 2
}
